{
 "cells": [
  {
   "cell_type": "markdown",
   "metadata": {},
   "source": [
    "# Physics 404/604\n",
    "\n",
    "## Computational Physics (Spring 2024)\n",
    "\n",
    "## BPB-250\n",
    "\n",
    "| Instructor | Prof. Zhaohuan Zhu                 |\n",
    "| ---------- | :--------------------------------- |\n",
    "| Email      | zhaohuan.zhu@unlv.edu              |\n",
    "| Website    | http://www.physics.unlv.edu/~zhzhu |\n",
    "| Office     | BPB 245                            |\n",
    "\n",
    "\n",
    "\n",
    "\n",
    "\n",
    "\n"
   ]
  },
  {
   "cell_type": "markdown",
   "metadata": {},
   "source": [
    "\n",
    "# 1. Programing Style: Efficient Algorithm\n",
    "\n",
    "\n",
    "## 1.1 Programming guide\n",
    "* Give the correct answers\n",
    "* clear and easy to read (including documenting itself)\n",
    "* easy to use\n",
    "* built up out of small programs that can be tested individually easy to modify and robust  \n",
    "* Try to use efficient algorithm\n",
    "\n",
    "\n"
   ]
  },
  {
   "cell_type": "markdown",
   "metadata": {},
   "source": [
    "## 1.2 Efficient ways to calculate Fibonacci numbers\n",
    "\n",
    "Fibonacci number\n",
    "The number series: 0, 1, 1, 2, 3, 5, 8, 13, 21, 34, … \n",
    "\\begin{equation}\n",
    "F_{n}=F_{n-1}+F_{n-2}\n",
    "\\end{equation}\n",
    "What is $F_{n}$?\n"
   ]
  },
  {
   "cell_type": "markdown",
   "metadata": {},
   "source": [
    "**Dynamic Programming:  \n",
    "An algorithmic paradigm that solves a complex problem by breaking it into subproblems and stores the results of subproblems to avoid computing the same results again.**\n",
    "\n",
    "## 1.3.1 Recursion method:\n",
    "\n",
    "Recursion in computer science is a method of solving a problem where the solution depends on solutions to smaller instances of the same problem.\n",
    "\n",
    "Most computer programming languages support recursion by allowing a function to call itself from within its own code. "
   ]
  },
  {
   "cell_type": "code",
   "execution_count": 9,
   "metadata": {},
   "outputs": [],
   "source": [
    "# Recursion method fib2, \n",
    "def fib2(n):      # extremely simple, but exponentially running time, very slow for large n, n cannot too large (stack limit)\n",
    "    if n == 0: return 0\n",
    "    elif n == 1: return 1\n",
    "    else: return fib2(n-1)+fib2(n-2)"
   ]
  },
  {
   "cell_type": "code",
   "execution_count": 10,
   "metadata": {},
   "outputs": [
    {
     "name": "stdout",
     "output_type": "stream",
     "text": [
      "102334155\n",
      "--- 29.30905032157898 seconds ---\n"
     ]
    }
   ],
   "source": [
    "import time\n",
    "start_time = time.time()\n",
    "print(fib2(40))\n",
    "print(\"--- %s seconds ---\" % (time.time() - start_time))"
   ]
  },
  {
   "cell_type": "markdown",
   "metadata": {},
   "source": [
    "## (Optional) 1.3.2 Memoization method (Top down):\n",
    "\n",
    "an optimization technique used primarily to speed up computer programs by storing the results of expensive function calls and returning the cached result when the same inputs occur again.\n",
    "\n",
    "turning [the results of] a function into something to be remembered"
   ]
  },
  {
   "cell_type": "code",
   "execution_count": 11,
   "metadata": {},
   "outputs": [],
   "source": [
    "# if we have defined an array table = [None]*(n+1)\n",
    "\n",
    "def fib3(n, table): # Store the data we already calculated, linear space and time complexity, but still have the stack limit\n",
    "    if n == 0 or n==1:\n",
    "        table[n]=n\n",
    "    \n",
    "    # if the value has not been calculated, calculate it \n",
    "    if table[n] is None:\n",
    "        table[n] = fib3(n-1, table) + fib3(n-2,table) \n",
    "        \n",
    "    return table[n]"
   ]
  },
  {
   "cell_type": "code",
   "execution_count": 12,
   "metadata": {},
   "outputs": [
    {
     "name": "stdout",
     "output_type": "stream",
     "text": [
      "55\n",
      "--- 0.0 seconds ---\n",
      "102334155\n",
      "--- 0.0 seconds ---\n",
      "17108476902340227241249719513231821477382749898026920041550883749834348017250935801359315038923367841494936038231522506358371361016671790887791259870264957823133253627917432203111969704623229384763490617075388642696139893354058660570399927047816296952516330636633851111646387885472698683607925\n",
      "--- 0.0 seconds ---\n"
     ]
    },
    {
     "ename": "RecursionError",
     "evalue": "maximum recursion depth exceeded",
     "output_type": "error",
     "traceback": [
      "\u001b[1;31m---------------------------------------------------------------------------\u001b[0m",
      "\u001b[1;31mRecursionError\u001b[0m                            Traceback (most recent call last)",
      "Cell \u001b[1;32mIn[12], line 27\u001b[0m\n\u001b[0;32m     25\u001b[0m table \u001b[38;5;241m=\u001b[39m [\u001b[38;5;28;01mNone\u001b[39;00m]\u001b[38;5;241m*\u001b[39m(n\u001b[38;5;241m+\u001b[39m\u001b[38;5;241m1\u001b[39m)\n\u001b[0;32m     26\u001b[0m start_time \u001b[38;5;241m=\u001b[39m time\u001b[38;5;241m.\u001b[39mtime()\n\u001b[1;32m---> 27\u001b[0m \u001b[38;5;28mprint\u001b[39m(fib3(n, table))\n\u001b[0;32m     28\u001b[0m \u001b[38;5;28mprint\u001b[39m(\u001b[38;5;124m\"\u001b[39m\u001b[38;5;124m--- \u001b[39m\u001b[38;5;132;01m%s\u001b[39;00m\u001b[38;5;124m seconds ---\u001b[39m\u001b[38;5;124m\"\u001b[39m \u001b[38;5;241m%\u001b[39m (time\u001b[38;5;241m.\u001b[39mtime() \u001b[38;5;241m-\u001b[39m start_time))\n",
      "Cell \u001b[1;32mIn[11], line 9\u001b[0m, in \u001b[0;36mfib3\u001b[1;34m(n, table)\u001b[0m\n\u001b[0;32m      7\u001b[0m \u001b[38;5;66;03m# if the value has not been calculated, calculate it \u001b[39;00m\n\u001b[0;32m      8\u001b[0m \u001b[38;5;28;01mif\u001b[39;00m table[n] \u001b[38;5;129;01mis\u001b[39;00m \u001b[38;5;28;01mNone\u001b[39;00m:\n\u001b[1;32m----> 9\u001b[0m     table[n] \u001b[38;5;241m=\u001b[39m fib3(n\u001b[38;5;241m-\u001b[39m\u001b[38;5;241m1\u001b[39m, table) \u001b[38;5;241m+\u001b[39m fib3(n\u001b[38;5;241m-\u001b[39m\u001b[38;5;241m2\u001b[39m,table) \n\u001b[0;32m     11\u001b[0m \u001b[38;5;28;01mreturn\u001b[39;00m table[n]\n",
      "Cell \u001b[1;32mIn[11], line 9\u001b[0m, in \u001b[0;36mfib3\u001b[1;34m(n, table)\u001b[0m\n\u001b[0;32m      7\u001b[0m \u001b[38;5;66;03m# if the value has not been calculated, calculate it \u001b[39;00m\n\u001b[0;32m      8\u001b[0m \u001b[38;5;28;01mif\u001b[39;00m table[n] \u001b[38;5;129;01mis\u001b[39;00m \u001b[38;5;28;01mNone\u001b[39;00m:\n\u001b[1;32m----> 9\u001b[0m     table[n] \u001b[38;5;241m=\u001b[39m fib3(n\u001b[38;5;241m-\u001b[39m\u001b[38;5;241m1\u001b[39m, table) \u001b[38;5;241m+\u001b[39m fib3(n\u001b[38;5;241m-\u001b[39m\u001b[38;5;241m2\u001b[39m,table) \n\u001b[0;32m     11\u001b[0m \u001b[38;5;28;01mreturn\u001b[39;00m table[n]\n",
      "    \u001b[1;31m[... skipping similar frames: fib3 at line 9 (2971 times)]\u001b[0m\n",
      "Cell \u001b[1;32mIn[11], line 9\u001b[0m, in \u001b[0;36mfib3\u001b[1;34m(n, table)\u001b[0m\n\u001b[0;32m      7\u001b[0m \u001b[38;5;66;03m# if the value has not been calculated, calculate it \u001b[39;00m\n\u001b[0;32m      8\u001b[0m \u001b[38;5;28;01mif\u001b[39;00m table[n] \u001b[38;5;129;01mis\u001b[39;00m \u001b[38;5;28;01mNone\u001b[39;00m:\n\u001b[1;32m----> 9\u001b[0m     table[n] \u001b[38;5;241m=\u001b[39m fib3(n\u001b[38;5;241m-\u001b[39m\u001b[38;5;241m1\u001b[39m, table) \u001b[38;5;241m+\u001b[39m fib3(n\u001b[38;5;241m-\u001b[39m\u001b[38;5;241m2\u001b[39m,table) \n\u001b[0;32m     11\u001b[0m \u001b[38;5;28;01mreturn\u001b[39;00m table[n]\n",
      "\u001b[1;31mRecursionError\u001b[0m: maximum recursion depth exceeded"
     ]
    }
   ],
   "source": [
    "import time\n",
    "n=10\n",
    "table = [None]*(n+1)\n",
    "start_time = time.time()\n",
    "print(fib3(n, table))\n",
    "print(\"--- %s seconds ---\" % (time.time() - start_time))\n",
    "\n",
    "# try this: Please calculate time if n=40, 1400, 14000,\n",
    "\n",
    "n=40\n",
    "table = [None]*(n+1)\n",
    "start_time = time.time()\n",
    "print(fib3(n, table))\n",
    "print(\"--- %s seconds ---\" % (time.time() - start_time))\n",
    "\n",
    "\n",
    "n=1400\n",
    "table = [None]*(n+1)\n",
    "start_time = time.time()\n",
    "print(fib3(n, table))\n",
    "print(\"--- %s seconds ---\" % (time.time() - start_time))\n",
    "\n",
    "\n",
    "n=14000\n",
    "table = [None]*(n+1)\n",
    "start_time = time.time()\n",
    "print(fib3(n, table))\n",
    "print(\"--- %s seconds ---\" % (time.time() - start_time))\n",
    "\n",
    "# In programming, the call stack is a buffer that stores requests that need to be handled."
   ]
  },
  {
   "cell_type": "markdown",
   "metadata": {},
   "source": [
    "## 1.3.2  Tabulation Method (bottom-up)\n",
    "Calculate all the values from small to big"
   ]
  },
  {
   "cell_type": "code",
   "execution_count": null,
   "metadata": {},
   "outputs": [],
   "source": [
    "# calculate numbers one by one from table[2] to table[n]\n",
    "\n",
    "def fib4(n):\n",
    "    table=[0]*(n+1)\n",
    "    table[1] = 1\n",
    "       \n",
    "    # try this: please finish the following two lines calcuating table[i] from table[i-1] and table[i-2]\n",
    "    for i in range(2,n+1):\n",
    "        table[i]= table[i-1] + table[i-2]\n",
    "        \n",
    "    return table[n]"
   ]
  },
  {
   "cell_type": "code",
   "execution_count": null,
   "metadata": {},
   "outputs": [],
   "source": [
    "import time\n",
    "start_time = time.time()\n",
    "print(fib4(40))\n",
    "print(\"--- %s seconds ---\" % (time.time() - start_time))\n",
    "start_time = time.time()\n",
    "print(fib4(1400))\n",
    "print(\"--- %s seconds ---\" % (time.time() - start_time))\n",
    "start_time = time.time()\n",
    "print(fib4(14000)) \n",
    "print(\"--- %s seconds ---\" % (time.time() - start_time))"
   ]
  },
  {
   "cell_type": "markdown",
   "metadata": {},
   "source": [
    "## 1.3.3 Using Matrix Algebra (Optional)\n",
    "\n",
    "$$\\left[\\begin{array}\n",
    "{rr}\n",
    "1 & 1 \\\\\n",
    "1 & 0 \\\\\n",
    "\\end{array}\\right]^n=\\left[\\begin{array}\n",
    "{rr}\n",
    "F(n+1) & F(n) \\\\\n",
    "F(n) & F(n-1) \\\\\n",
    "\\end{array}\\right]\n",
    "$$\n",
    "\n",
    "To calculate F(100), need $A^{100}$ -> $(A^{50})^2$->$A^{25}$->$A^{12}$->$A^6$->$A^3$->$A^1$"
   ]
  },
  {
   "cell_type": "code",
   "execution_count": null,
   "metadata": {},
   "outputs": [],
   "source": [
    "def arrpow(arr, n):\n",
    "    yarr=arr\n",
    "    if n<1:\n",
    "        print('n needs to be larger than 1')\n",
    "    if n==1:\n",
    "        return arr\n",
    "    yarr = arrpow(arr, n//2)\n",
    "    yarr = [[yarr[0][0]*yarr[0][0]+yarr[0][1]*yarr[1][0],yarr[0][0]*yarr[0][1]+yarr[0][1]*yarr[1][1]],\n",
    "            [yarr[1][0]*yarr[0][0]+yarr[1][1]*yarr[1][0],yarr[1][0]*yarr[0][1]+yarr[1][1]*yarr[1][1]]]\n",
    "    if n%2:\n",
    "        yarr=[[yarr[0][0]*arr[0][0]+yarr[0][1]*arr[1][0],yarr[0][0]*arr[0][1]+yarr[0][1]*arr[1][1]],\n",
    "            [yarr[1][0]*arr[0][0]+yarr[1][1]*arr[1][0],yarr[1][0]*arr[0][1]+yarr[1][1]*arr[1][1]]]\n",
    "    return yarr\n",
    "\n",
    "def fib5(n):\n",
    "    arr= [[1,1],[1,0]]\n",
    "    f=arrpow(arr,n-1)[0][0]\n",
    "    return f\n",
    "    \n",
    "\n"
   ]
  },
  {
   "cell_type": "code",
   "execution_count": null,
   "metadata": {
    "scrolled": true
   },
   "outputs": [],
   "source": [
    "import time\n",
    "start_time = time.time()\n",
    "print(fib5(40))\n",
    "print(\"--- %s seconds ---\" % (time.time() - start_time))\n",
    "import time\n",
    "start_time = time.time()\n",
    "print(fib5(14000)) # 93 overflow\n",
    "print(\"--- %s seconds ---\" % (time.time() - start_time))"
   ]
  },
  {
   "cell_type": "markdown",
   "metadata": {},
   "source": [
    "# 2. the complexity of the algorithms\n",
    "\n",
    "Algorithm complexity is a measure which evaluates the order of the count of operations, performed by a given or algorithm as a function of the size of the input data. To put this simpler, complexity is a rough approximation of the number of steps necessary to execute an algorithm. When we evaluate complexity we speak of order of operation count, not of their exact count. \n",
    "\n",
    "For example if we have an order of $N^2$ operations to process N elements, then $N^2$/2 and 3*$N^2$ are of one and the same quadratic order.\n",
    "\n",
    "Algorithm complexity is commonly represented with the O(f) notation e.g. O($N^2$). We can measure the algorithm complexity by plotting n vs. steps, or n vs. execution time."
   ]
  },
  {
   "cell_type": "code",
   "execution_count": null,
   "metadata": {},
   "outputs": [],
   "source": [
    "import numpy as np\n",
    "n2=np.arange(1,41,3)\n",
    "time2=np.zeros(n2.size)\n",
    "for i in range(n2.size):\n",
    "    start_time = time.time()\n",
    "    temp=fib2(n2[i])\n",
    "    time2[i] = time.time()-start_time\n",
    "    print(n2[i],time2[i])\n"
   ]
  },
  {
   "cell_type": "code",
   "execution_count": null,
   "metadata": {},
   "outputs": [],
   "source": [
    "import matplotlib.pyplot as plt\n",
    "import math\n",
    "\n",
    "# please make a plot of n2 vs np.log10(time2) and think about how this plot shows that the complexity of fib2 is O(2^N)\n",
    "x=n2\n",
    "y=np.log10(time2)\n",
    "plt.plot(x,y)\n",
    "\n",
    "plt.xlim(15,41)\n",
    "plt.xlabel('n')\n",
    "\n",
    "plt.ylim(-3.2,2)\n",
    "plt.ylabel('log10(time)')\n",
    "\n",
    "plt.show()\n"
   ]
  },
  {
   "cell_type": "code",
   "execution_count": null,
   "metadata": {
    "scrolled": true
   },
   "outputs": [],
   "source": [
    "# try this: following the above example to calculate the time when n=n2[0], n2[1]...., and make a plot for log10(time) vs n\n",
    "# for fib4\n",
    "\n",
    "n2=np.arange(100,100000,100)\n",
    "time2=np.zeros(n2.size)\n",
    "\n",
    "for i in range(n2.size):\n",
    "    start_time = time.time()\n",
    "    temp=fib4(n2[i])\n",
    "    time2[i] = time.time()-start_time\n",
    "    print(n2[i],time2[i])\n"
   ]
  },
  {
   "cell_type": "code",
   "execution_count": null,
   "metadata": {
    "scrolled": false
   },
   "outputs": [],
   "source": [
    "import matplotlib.pyplot as plt\n",
    "import math\n",
    "\n",
    "x=np.log10(n2)\n",
    "y=np.log10(time2)\n",
    "plt.ylim([-5,0])\n",
    "plt.plot(x,y)\n",
    "plt.xlabel('log10(n)')\n",
    "plt.ylabel('log10(time)')\n",
    "plt.show()"
   ]
  },
  {
   "cell_type": "markdown",
   "metadata": {},
   "source": [
    "# Homework\n",
    "\n",
    "    a) Use the Recursion method, Tabulation method,  and matrix method to calculate the time spent for different n (e.g. 1, 10, 100, 1000, 10000, … uniform in the log space). (caution: recursion method will break when n>100)\n",
    "\n",
    "    b) plot log(time) (y-axis) vs. log(n) (x-axis) for different methods. \n",
    "       \n",
    "    c) Discuss the complexity of each method.\n"
   ]
  },
  {
   "cell_type": "code",
   "execution_count": null,
   "metadata": {},
   "outputs": [],
   "source": [
    "#as seen from 1.3.1, the recursion method is the least efficient method. Having to calculate such a high amount of \n",
    "#itterations places a strain on hardware and takes a much longer time to compeltely calculate. Then from 1.3.2 using the \n",
    "#tabulation method we see getting to n = 14000 with only taking about 0.01 seconds to calculate. Beyond that in 1.3.3 the \n",
    "#method can calculate a much more precise value while the software still measuring its outcome of 0.0 seconds. \n",
    "#The goal of lowering the itterations is accomplished by storing repettetive inputs and calling upon them when reused instead \n",
    "#of repeating inputs and taking up processing times"
   ]
  },
  {
   "cell_type": "code",
   "execution_count": null,
   "metadata": {},
   "outputs": [],
   "source": []
  }
 ],
 "metadata": {
  "kernelspec": {
   "display_name": "Python 3 (ipykernel)",
   "language": "python",
   "name": "python3"
  },
  "language_info": {
   "codemirror_mode": {
    "name": "ipython",
    "version": 3
   },
   "file_extension": ".py",
   "mimetype": "text/x-python",
   "name": "python",
   "nbconvert_exporter": "python",
   "pygments_lexer": "ipython3",
   "version": "3.11.5"
  }
 },
 "nbformat": 4,
 "nbformat_minor": 4
}
